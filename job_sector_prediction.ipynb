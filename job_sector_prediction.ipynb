{
 "cells": [
  {
   "cell_type": "markdown",
   "id": "4b744dc0",
   "metadata": {},
   "source": [
    "## JOB SECTOR PREDICTION"
   ]
  },
  {
   "cell_type": "markdown",
   "id": "f043101a",
   "metadata": {},
   "source": [
    "#### LIBRARIES"
   ]
  },
  {
   "cell_type": "code",
   "execution_count": 245,
   "id": "5e75af88",
   "metadata": {},
   "outputs": [],
   "source": [
    "import re\n",
    "import pickle\n",
    "from PyPDF2 import PdfReader\n",
    "import numpy as np"
   ]
  },
  {
   "cell_type": "markdown",
   "id": "82719d6b",
   "metadata": {},
   "source": [
    "#### EXTRACT TEXT FROM PDF"
   ]
  },
  {
   "cell_type": "code",
   "execution_count": 246,
   "id": "f0099e86",
   "metadata": {},
   "outputs": [],
   "source": [
    "# FILE LOCATION\n",
    "file = open('Sales-Executive-Resume.pdf', 'rb')"
   ]
  },
  {
   "cell_type": "code",
   "execution_count": 247,
   "id": "c6a7d316",
   "metadata": {},
   "outputs": [],
   "source": [
    "# PDF EXTRACTION\n",
    "def extract_pdf(file_path):\n",
    "    texts = []\n",
    "    pdf_reader = PdfReader(file_path)\n",
    "    for i in range(0, len(pdf_reader.pages)):\n",
    "        texts.append(\"\".join(pdf_reader.pages[i].extract_text()))\n",
    "    return ' '.join(texts)"
   ]
  },
  {
   "cell_type": "markdown",
   "id": "4bb28fc7",
   "metadata": {},
   "source": [
    "#### LOADING THE MODEL & VECTORIZER & LABELS"
   ]
  },
  {
   "cell_type": "code",
   "execution_count": 248,
   "id": "d6c99626",
   "metadata": {},
   "outputs": [],
   "source": [
    "with open('vectorizer_model.pkl', 'rb') as vfile:\n",
    "    vec = pickle.load(vfile)\n",
    "    \n",
    "with open('rf_model.pkl', 'rb') as mfile:\n",
    "    loaded_model = pickle.load(mfile)\n",
    "    \n",
    "with open('labels.pkl', 'rb') as lfile:\n",
    "    labels = pickle.load(lfile)"
   ]
  },
  {
   "cell_type": "markdown",
   "id": "34fb428a",
   "metadata": {},
   "source": [
    "#### TEXT PRE-PROCESSING"
   ]
  },
  {
   "cell_type": "code",
   "execution_count": 249,
   "id": "a494a665",
   "metadata": {},
   "outputs": [],
   "source": [
    "def text_cleaning(Text):\n",
    "    Text = re.sub('\\r\\n', ' ', Text) # remove blank spaces\n",
    "    Text = re.sub('[%s]' % re.escape(\"\"\"!\"#$%&'()*+,-/.:;<=>?@[\\]^_`{|}~\"\"\"), ' ', Text)  # remove punctuations\n",
    "    Text = re.sub(r'[^\\x00-\\x7f]',r' ', Text) # non ascii values\n",
    "    Text = re.sub('\\s+', ' ', Text)  # remove extra whitespace\n",
    "    Text = Text.lower() # convert to lower case\n",
    "    return Text"
   ]
  },
  {
   "cell_type": "markdown",
   "id": "87144811",
   "metadata": {},
   "source": [
    "#### PREDICTION"
   ]
  },
  {
   "cell_type": "code",
   "execution_count": 250,
   "id": "a85df898",
   "metadata": {},
   "outputs": [],
   "source": [
    "def prediction(data):\n",
    "\n",
    "    processed_data = []\n",
    "    input_text = text_cleaning(data)\n",
    "    processed_data.append(input_text)\n",
    "    \n",
    "    test = vec.transform(processed_data).toarray()\n",
    "    pred = loaded_model.predict_proba(test)\n",
    "    \n",
    "    classes = np.argsort(pred)[:, -5:][:, ::-1]\n",
    "    \n",
    "    label_map = dict((v,k) for k,v in labels.items()) \n",
    "    top5_predictions = [label_map[k] for k in classes[0]] \n",
    "\n",
    "    print('\\nTOP FIVE PREDICTED RESULTS\\n -> ', top5_predictions)\n",
    "    print('\\nTOP MOST PREDICTED RESULTS\\n -> ', top5_predictions[0])\n",
    "    \n",
    "    return classes"
   ]
  },
  {
   "cell_type": "code",
   "execution_count": 251,
   "id": "f248c39f",
   "metadata": {},
   "outputs": [],
   "source": [
    "extract_pdf_data = extract_pdf(file)"
   ]
  },
  {
   "cell_type": "code",
   "execution_count": 252,
   "id": "faf31d54",
   "metadata": {
    "scrolled": true
   },
   "outputs": [
    {
     "name": "stdout",
     "output_type": "stream",
     "text": [
      "\n",
      "TOP FIVE PREDICTED RESULTS\n",
      " ->  ['Sales', 'Healthcare', 'Customer service', 'Retail', 'Marketing']\n",
      "\n",
      "TOP MOST PREDICTED RESULTS\n",
      " ->  Sales\n"
     ]
    },
    {
     "data": {
      "text/plain": [
       "array([[24, 10,  4, 23, 17]], dtype=int64)"
      ]
     },
     "execution_count": 252,
     "metadata": {},
     "output_type": "execute_result"
    }
   ],
   "source": [
    "prediction(extract_pdf_data)"
   ]
  },
  {
   "cell_type": "code",
   "execution_count": null,
   "id": "8db6c4d2",
   "metadata": {},
   "outputs": [],
   "source": []
  }
 ],
 "metadata": {
  "kernelspec": {
   "display_name": "Python 3 (ipykernel)",
   "language": "python",
   "name": "python3"
  },
  "language_info": {
   "codemirror_mode": {
    "name": "ipython",
    "version": 3
   },
   "file_extension": ".py",
   "mimetype": "text/x-python",
   "name": "python",
   "nbconvert_exporter": "python",
   "pygments_lexer": "ipython3",
   "version": "3.10.9"
  }
 },
 "nbformat": 4,
 "nbformat_minor": 5
}
